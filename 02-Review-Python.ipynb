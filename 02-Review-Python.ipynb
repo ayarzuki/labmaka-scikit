{
 "cells": [
  {
   "cell_type": "markdown",
   "metadata": {},
   "source": [
    "# Review Singkat Python"
   ]
  },
  {
   "cell_type": "markdown",
   "metadata": {},
   "source": [
    "Oleh Afif Akbar Iskandar"
   ]
  },
  {
   "cell_type": "markdown",
   "metadata": {},
   "source": [
    "## Operasi Aritmatika Dasar"
   ]
  },
  {
   "cell_type": "markdown",
   "metadata": {},
   "source": [
    "Berikut merupakan operasi aritmatika dasar pada Python:"
   ]
  },
  {
   "cell_type": "code",
   "execution_count": 1,
   "metadata": {
    "collapsed": false
   },
   "outputs": [
    {
     "data": {
      "text/plain": [
       "7"
      ]
     },
     "execution_count": 1,
     "metadata": {},
     "output_type": "execute_result"
    }
   ],
   "source": [
    "5+2 #penjumlahan"
   ]
  },
  {
   "cell_type": "code",
   "execution_count": 2,
   "metadata": {
    "collapsed": false
   },
   "outputs": [
    {
     "data": {
      "text/plain": [
       "3"
      ]
     },
     "execution_count": 2,
     "metadata": {},
     "output_type": "execute_result"
    }
   ],
   "source": [
    "5-2 #pengurangan"
   ]
  },
  {
   "cell_type": "code",
   "execution_count": 3,
   "metadata": {
    "collapsed": false
   },
   "outputs": [
    {
     "data": {
      "text/plain": [
       "10"
      ]
     },
     "execution_count": 3,
     "metadata": {},
     "output_type": "execute_result"
    }
   ],
   "source": [
    "5*2 #perkalian"
   ]
  },
  {
   "cell_type": "code",
   "execution_count": 4,
   "metadata": {
    "collapsed": false
   },
   "outputs": [
    {
     "data": {
      "text/plain": [
       "2.5"
      ]
     },
     "execution_count": 4,
     "metadata": {},
     "output_type": "execute_result"
    }
   ],
   "source": [
    "5/2 #pembagian"
   ]
  },
  {
   "cell_type": "code",
   "execution_count": 5,
   "metadata": {
    "collapsed": false
   },
   "outputs": [
    {
     "data": {
      "text/plain": [
       "25"
      ]
     },
     "execution_count": 5,
     "metadata": {},
     "output_type": "execute_result"
    }
   ],
   "source": [
    "5**2 #pemangkatan"
   ]
  },
  {
   "cell_type": "markdown",
   "metadata": {},
   "source": [
    "5%2 #Sisa hasil bagi (modulus)"
   ]
  },
  {
   "cell_type": "markdown",
   "metadata": {},
   "source": [
    "## String"
   ]
  },
  {
   "cell_type": "markdown",
   "metadata": {},
   "source": [
    "String adalah rangkaian karakter. Anda bisa menuliskan string literal dengan beberapa cara:"
   ]
  },
  {
   "cell_type": "code",
   "execution_count": 6,
   "metadata": {
    "collapsed": false
   },
   "outputs": [
    {
     "data": {
      "text/plain": [
       "'Ini adalah sebuah string'"
      ]
     },
     "execution_count": 6,
     "metadata": {},
     "output_type": "execute_result"
    }
   ],
   "source": [
    "'Ini adalah sebuah string' #single quote"
   ]
  },
  {
   "cell_type": "code",
   "execution_count": 7,
   "metadata": {
    "collapsed": false
   },
   "outputs": [
    {
     "data": {
      "text/plain": [
       "'Ini adalah sebuah string'"
      ]
     },
     "execution_count": 7,
     "metadata": {},
     "output_type": "execute_result"
    }
   ],
   "source": [
    "\"Ini adalah sebuah string\" #double quote"
   ]
  },
  {
   "cell_type": "code",
   "execution_count": 8,
   "metadata": {
    "collapsed": false
   },
   "outputs": [
    {
     "data": {
      "text/plain": [
       "'Ini adalah sebuah string\\nyang dapat ditulis dalam multilines'"
      ]
     },
     "execution_count": 8,
     "metadata": {},
     "output_type": "execute_result"
    }
   ],
   "source": [
    "\"\"\"Ini adalah sebuah string\n",
    "yang dapat ditulis dalam multilines\"\"\" #triple quote untuk multilines string"
   ]
  },
  {
   "cell_type": "markdown",
   "metadata": {},
   "source": [
    "Menulis kutip didalam string:"
   ]
  },
  {
   "cell_type": "code",
   "execution_count": 9,
   "metadata": {
    "collapsed": false
   },
   "outputs": [
    {
     "data": {
      "text/plain": [
       "\"Ini adalah string yang mengandung 'kutip'\""
      ]
     },
     "execution_count": 9,
     "metadata": {},
     "output_type": "execute_result"
    }
   ],
   "source": [
    "\"Ini adalah string yang mengandung 'kutip'\" #dengan menggunakan jenis tanda kutip berbeda"
   ]
  },
  {
   "cell_type": "code",
   "execution_count": 10,
   "metadata": {
    "collapsed": false
   },
   "outputs": [
    {
     "data": {
      "text/plain": [
       "\"Ini adalah string yang mengandung 'kutip'\""
      ]
     },
     "execution_count": 10,
     "metadata": {},
     "output_type": "execute_result"
    }
   ],
   "source": [
    "'Ini adalah string yang mengandung \\'kutip\\'' #dengan menggunakan backslash"
   ]
  },
  {
   "cell_type": "markdown",
   "metadata": {},
   "source": [
    "String bersifat immutable yang artinya setelah string dibuat, string tersebut tidak dapat diubah kembali"
   ]
  },
  {
   "cell_type": "markdown",
   "metadata": {},
   "source": [
    "## Angka"
   ]
  },
  {
   "cell_type": "markdown",
   "metadata": {},
   "source": [
    "Di Python bilangan dibagi menjadi dua tipe utama - integer (bulat) dan float (pecahan)"
   ]
  },
  {
   "cell_type": "code",
   "execution_count": 11,
   "metadata": {
    "collapsed": false
   },
   "outputs": [
    {
     "data": {
      "text/plain": [
       "46"
      ]
     },
     "execution_count": 11,
     "metadata": {},
     "output_type": "execute_result"
    }
   ],
   "source": [
    "46 #integer"
   ]
  },
  {
   "cell_type": "code",
   "execution_count": 12,
   "metadata": {
    "collapsed": false
   },
   "outputs": [
    {
     "data": {
      "text/plain": [
       "46.0"
      ]
     },
     "execution_count": 12,
     "metadata": {},
     "output_type": "execute_result"
    }
   ],
   "source": [
    "46.0 #float"
   ]
  },
  {
   "cell_type": "code",
   "execution_count": 13,
   "metadata": {
    "collapsed": false
   },
   "outputs": [
    {
     "data": {
      "text/plain": [
       "0.00523"
      ]
     },
     "execution_count": 13,
     "metadata": {},
     "output_type": "execute_result"
    }
   ],
   "source": [
    "52.3e-4 #contoh float dengan notasi e"
   ]
  },
  {
   "cell_type": "markdown",
   "metadata": {},
   "source": [
    "Notasi e mengindikasikan pangkat 10. Untuk kasus ini 52.3e-4 berarti 52.3 * 10 ^(-4)."
   ]
  },
  {
   "cell_type": "markdown",
   "metadata": {},
   "source": [
    "## Format String"
   ]
  },
  {
   "cell_type": "markdown",
   "metadata": {},
   "source": [
    "Terkadang kita ingin membuat string dari informasi lain, untuk hal ini kita dapat menggunakan format string."
   ]
  },
  {
   "cell_type": "code",
   "execution_count": 14,
   "metadata": {
    "collapsed": false
   },
   "outputs": [
    {
     "data": {
      "text/plain": [
       "'Ibu pergi ke Pasar'"
      ]
     },
     "execution_count": 14,
     "metadata": {},
     "output_type": "execute_result"
    }
   ],
   "source": [
    "\"%s pergi ke %s\" %('Ibu','Pasar')"
   ]
  },
  {
   "cell_type": "code",
   "execution_count": 15,
   "metadata": {
    "collapsed": false
   },
   "outputs": [
    {
     "data": {
      "text/plain": [
       "'Ibu pergi ke Pasar'"
      ]
     },
     "execution_count": 15,
     "metadata": {},
     "output_type": "execute_result"
    }
   ],
   "source": [
    "\"{} pergi ke {}\".format('Ibu','Pasar')"
   ]
  },
  {
   "cell_type": "code",
   "execution_count": 16,
   "metadata": {
    "collapsed": false
   },
   "outputs": [
    {
     "data": {
      "text/plain": [
       "'Total harga yang harus dibayar adalah : Rp. 50000'"
      ]
     },
     "execution_count": 16,
     "metadata": {},
     "output_type": "execute_result"
    }
   ],
   "source": [
    "\"Total harga yang harus dibayar adalah : Rp. %s\" %(50000)"
   ]
  },
  {
   "cell_type": "code",
   "execution_count": 17,
   "metadata": {
    "collapsed": false
   },
   "outputs": [
    {
     "data": {
      "text/plain": [
       "'Total harga yang harus dibayar adalah : Rp. 50000'"
      ]
     },
     "execution_count": 17,
     "metadata": {},
     "output_type": "execute_result"
    }
   ],
   "source": [
    "\"Total harga yang harus dibayar adalah : Rp. {}\".format(50000)"
   ]
  },
  {
   "cell_type": "markdown",
   "metadata": {},
   "source": [
    "## Variabel"
   ]
  },
  {
   "cell_type": "markdown",
   "metadata": {},
   "source": [
    "Hanya menggunakan konstanta literal saja cukup membosankan, kita membutuhkan cara untuk menyimpan dan memanipulasi informasi. Untuk hal ini kita bisa menggunakan variabel. Seperti namanya, variabel dapat diisi dengan bermacam-macam nilai, anda dapat menyimpan apapun menggunakan variabel. Variabel adalah sebagian dari memori komputer yang digunakan untuk menyimpan informasi. Berbeda dengan konstanta literal, anda membutuhkan cara untuk mengakses variabel ini, oleh karena itu kita memberi nama kepada variabel."
   ]
  },
  {
   "cell_type": "code",
   "execution_count": 18,
   "metadata": {
    "collapsed": false
   },
   "outputs": [
    {
     "name": "stdout",
     "output_type": "stream",
     "text": [
      "2\n"
     ]
    }
   ],
   "source": [
    "a = 2\n",
    "print(a)"
   ]
  },
  {
   "cell_type": "code",
   "execution_count": 19,
   "metadata": {
    "collapsed": false
   },
   "outputs": [
    {
     "name": "stdout",
     "output_type": "stream",
     "text": [
      "128\n"
     ]
    }
   ],
   "source": [
    "b = 7\n",
    "print(a**b) #operasi aritmatika dan cetak ke layar"
   ]
  },
  {
   "cell_type": "code",
   "execution_count": 20,
   "metadata": {
    "collapsed": false
   },
   "outputs": [
    {
     "name": "stdout",
     "output_type": "stream",
     "text": [
      "Saya pergi ke pasar bersama Ibu\n"
     ]
    }
   ],
   "source": [
    "teks = \"Saya pergi ke pasar bersama {}\"\n",
    "print(teks.format(\"Ibu\"))"
   ]
  },
  {
   "cell_type": "code",
   "execution_count": 21,
   "metadata": {
    "collapsed": false
   },
   "outputs": [
    {
     "name": "stdout",
     "output_type": "stream",
     "text": [
      "siapa nama anda ?Afif\n"
     ]
    }
   ],
   "source": [
    "nama = input(\"siapa nama anda ?\") #meminta input dari user"
   ]
  },
  {
   "cell_type": "code",
   "execution_count": 22,
   "metadata": {
    "collapsed": false
   },
   "outputs": [
    {
     "name": "stdout",
     "output_type": "stream",
     "text": [
      "Afif\n"
     ]
    }
   ],
   "source": [
    "print(nama)"
   ]
  },
  {
   "cell_type": "markdown",
   "metadata": {},
   "source": [
    "## Tipe Data"
   ]
  },
  {
   "cell_type": "markdown",
   "metadata": {},
   "source": [
    "Variabel dapat menyimpan nilai dengan berbagi tipe disebut dengan tipe data. Bilangan dan string adalah tipe dasar, yang sudah dibahas sebelumnya. Gunakan sintaks `type` untuk melihat tipe data pada variabel"
   ]
  },
  {
   "cell_type": "code",
   "execution_count": 23,
   "metadata": {
    "collapsed": false
   },
   "outputs": [
    {
     "data": {
      "text/plain": [
       "int"
      ]
     },
     "execution_count": 23,
     "metadata": {},
     "output_type": "execute_result"
    }
   ],
   "source": [
    "a = 5\n",
    "type(a)"
   ]
  },
  {
   "cell_type": "code",
   "execution_count": 24,
   "metadata": {
    "collapsed": false
   },
   "outputs": [
    {
     "data": {
      "text/plain": [
       "float"
      ]
     },
     "execution_count": 24,
     "metadata": {},
     "output_type": "execute_result"
    }
   ],
   "source": [
    "b = 5.0\n",
    "type(b)"
   ]
  },
  {
   "cell_type": "code",
   "execution_count": 25,
   "metadata": {
    "collapsed": false
   },
   "outputs": [
    {
     "data": {
      "text/plain": [
       "str"
      ]
     },
     "execution_count": 25,
     "metadata": {},
     "output_type": "execute_result"
    }
   ],
   "source": [
    "c = \"afif\"\n",
    "type(c)"
   ]
  },
  {
   "cell_type": "code",
   "execution_count": 26,
   "metadata": {
    "collapsed": false
   },
   "outputs": [
    {
     "name": "stdout",
     "output_type": "stream",
     "text": [
      "Input dari user : 13\n"
     ]
    },
    {
     "data": {
      "text/plain": [
       "str"
      ]
     },
     "execution_count": 26,
     "metadata": {},
     "output_type": "execute_result"
    }
   ],
   "source": [
    "d = input(\"Input dari user : \")\n",
    "type(d)"
   ]
  },
  {
   "cell_type": "markdown",
   "metadata": {},
   "source": [
    "Semua input dari user dianggap `string` pada Python 3, untuk mengubahnya, gunakan fungsi `eval`"
   ]
  },
  {
   "cell_type": "code",
   "execution_count": 27,
   "metadata": {
    "collapsed": false
   },
   "outputs": [
    {
     "data": {
      "text/plain": [
       "str"
      ]
     },
     "execution_count": 27,
     "metadata": {},
     "output_type": "execute_result"
    }
   ],
   "source": [
    "contoh = \"10\"\n",
    "type(contoh)"
   ]
  },
  {
   "cell_type": "code",
   "execution_count": 28,
   "metadata": {
    "collapsed": false
   },
   "outputs": [
    {
     "data": {
      "text/plain": [
       "int"
      ]
     },
     "execution_count": 28,
     "metadata": {},
     "output_type": "execute_result"
    }
   ],
   "source": [
    "contoh = eval(contoh)\n",
    "type(contoh)"
   ]
  },
  {
   "cell_type": "markdown",
   "metadata": {},
   "source": [
    "Contoh script sederhana pemanfaatan fungsi-fungsi yang telah dipelajari"
   ]
  },
  {
   "cell_type": "code",
   "execution_count": 29,
   "metadata": {
    "collapsed": false
   },
   "outputs": [
    {
     "name": "stdout",
     "output_type": "stream",
     "text": [
      "Masukkan angka lainnya : 12\n",
      "Nama Anda : Afif\n",
      "Hasil perhitungan anda adalah : 12855002631049216\n",
      "Nama anda adalah Afif\n"
     ]
    }
   ],
   "source": [
    "a = 15\n",
    "b = 7\n",
    "c = eval(input(\"Masukkan angka lainnya : \"))\n",
    "nama = input(\"Nama Anda : \")\n",
    "perhitungan = (a+b)**c\n",
    "print(\"Hasil perhitungan anda adalah : {}\".format(perhitungan))\n",
    "print(\"Nama anda adalah %s\" %(nama))"
   ]
  },
  {
   "cell_type": "markdown",
   "metadata": {},
   "source": [
    "## Fungsi"
   ]
  },
  {
   "cell_type": "markdown",
   "metadata": {},
   "source": [
    "Fungsi adalah bagian dari program yang dapat digunakan ulang. Hal ini bisa dicapai dengan memberi nama pada blok statemen, kemudian nama ini dapat dipanggil di manapun dalam program. Kita telah menggunakan beberapa fungsi builtin seperti range.\n",
    "\n",
    "Fungsi dalam Python didefinisikan menggunakan kata kunci `def`. Setelah `def` ada nama pengenal fungsi diikut dengan parameter yang diapit oleh tanda kurung dan diakhir dingan tanda titik dua :. Baris berikutnya berupa blok fungsi yang akan dijalankan jika fungsi dipanggil."
   ]
  },
  {
   "cell_type": "code",
   "execution_count": 30,
   "metadata": {
    "collapsed": false
   },
   "outputs": [],
   "source": [
    "def halo(): #fungsi tanpa parameter\n",
    "    print(\"Halo dunia!\")"
   ]
  },
  {
   "cell_type": "code",
   "execution_count": 31,
   "metadata": {
    "collapsed": false
   },
   "outputs": [
    {
     "name": "stdout",
     "output_type": "stream",
     "text": [
      "Halo dunia!\n"
     ]
    }
   ],
   "source": [
    "halo()"
   ]
  },
  {
   "cell_type": "code",
   "execution_count": 32,
   "metadata": {
    "collapsed": true
   },
   "outputs": [],
   "source": [
    "def halo(nama): #fungsi dengan parameter\n",
    "    print(\"Halo, nama saya {}!\".format(nama))"
   ]
  },
  {
   "cell_type": "code",
   "execution_count": 33,
   "metadata": {
    "collapsed": false
   },
   "outputs": [
    {
     "name": "stdout",
     "output_type": "stream",
     "text": [
      "Halo, nama saya Afif!\n"
     ]
    }
   ],
   "source": [
    "halo(\"Afif\")"
   ]
  },
  {
   "cell_type": "code",
   "execution_count": 34,
   "metadata": {
    "collapsed": true
   },
   "outputs": [],
   "source": [
    "def pangkat(a,b):\n",
    "    print(\"Hasil pangkatnya adalah {}\".format(a**b))"
   ]
  },
  {
   "cell_type": "code",
   "execution_count": 35,
   "metadata": {
    "collapsed": false
   },
   "outputs": [
    {
     "name": "stdout",
     "output_type": "stream",
     "text": [
      "Hasil pangkatnya adalah 25\n"
     ]
    }
   ],
   "source": [
    "pangkat(5,2)"
   ]
  },
  {
   "cell_type": "markdown",
   "metadata": {},
   "source": [
    "Statemen return digunakan untuk keluar dari fungsi. Kita juga dapat menspesifikasikan nilai kembalian. Seperti pada latihan diatas melainkan mencetak hasil jumlah dalam blok fungsi, fungsi total mengembalikan nilai jumlah ke pemanggil."
   ]
  },
  {
   "cell_type": "code",
   "execution_count": 36,
   "metadata": {
    "collapsed": false
   },
   "outputs": [],
   "source": [
    "def pangkat_return(a,b):\n",
    "    return 5**2"
   ]
  },
  {
   "cell_type": "code",
   "execution_count": 37,
   "metadata": {
    "collapsed": false
   },
   "outputs": [
    {
     "name": "stdout",
     "output_type": "stream",
     "text": [
      "25\n"
     ]
    }
   ],
   "source": [
    "a = pangkat_return(5,2)\n",
    "print(a)"
   ]
  },
  {
   "cell_type": "markdown",
   "metadata": {},
   "source": [
    "## Kondisional"
   ]
  },
  {
   "cell_type": "markdown",
   "metadata": {},
   "source": [
    "Kondisional di Python menggunakan operator seperti ==, !=, <, <=, >, >=, not, in. Operator tersebut merupakan operator logika yang akan digunakan programmer Python untuk membuat sebuah alur logika.\n",
    "\n",
    "operan adalah sebuah nilai yang dibandingkan oleh operator logika. Untuk perbandingan logika minimal membutuhkan dua operan. Operan sebelah kiri akan dibandingkan dengan operan sebelah kanan. Sebagai contoh mari kita coba kondisional if di Python:"
   ]
  },
  {
   "cell_type": "code",
   "execution_count": 38,
   "metadata": {
    "collapsed": false
   },
   "outputs": [
    {
     "name": "stdout",
     "output_type": "stream",
     "text": [
      "Masukkan angka pertama : 2\n",
      "Masukkan angka kedua : 4\n",
      "angka pertama lebih kecil dari angka kedua\n"
     ]
    }
   ],
   "source": [
    "a = eval(input(\"Masukkan angka pertama : \"))\n",
    "b = eval(input(\"Masukkan angka kedua : \"))\n",
    "if a<b:\n",
    "    print(\"angka pertama lebih kecil dari angka kedua\")\n"
   ]
  },
  {
   "cell_type": "markdown",
   "metadata": {},
   "source": [
    "### gunakan else untuk menambah kasus diatas"
   ]
  },
  {
   "cell_type": "code",
   "execution_count": 39,
   "metadata": {
    "collapsed": false
   },
   "outputs": [
    {
     "name": "stdout",
     "output_type": "stream",
     "text": [
      "Masukkan angka pertama : 2\n",
      "Masukkan angka kedua : 1\n",
      "angka pertama lebih besar dari angka kedua\n"
     ]
    }
   ],
   "source": [
    "a = eval(input(\"Masukkan angka pertama : \"))\n",
    "b = eval(input(\"Masukkan angka kedua : \"))\n",
    "if a<b:\n",
    "    print(\"angka pertama lebih kecil dari angka kedua\")\n",
    "else:\n",
    "    print(\"angka pertama lebih besar dari angka kedua\")"
   ]
  },
  {
   "cell_type": "markdown",
   "metadata": {},
   "source": [
    "### gunakan else if untuk membuat kasus diatas lebih akurat"
   ]
  },
  {
   "cell_type": "code",
   "execution_count": 40,
   "metadata": {
    "collapsed": false
   },
   "outputs": [
    {
     "name": "stdout",
     "output_type": "stream",
     "text": [
      "Masukkan angka pertama : 5\n",
      "Masukkan angka kedua : 5\n",
      "angka pertama sama dengan angka kedua\n"
     ]
    }
   ],
   "source": [
    "a = eval(input(\"Masukkan angka pertama : \"))\n",
    "b = eval(input(\"Masukkan angka kedua : \"))\n",
    "if a<b:\n",
    "    print(\"angka pertama lebih kecil dari angka kedua\")\n",
    "elif a==b:\n",
    "    print(\"angka pertama sama dengan angka kedua\")\n",
    "else:\n",
    "    print(\"angka pertama lebih besar dari angka kedua\")"
   ]
  },
  {
   "cell_type": "markdown",
   "metadata": {},
   "source": [
    "## List, Tuple dan Set"
   ]
  },
  {
   "cell_type": "markdown",
   "metadata": {},
   "source": [
    "List, Tuple dan Set adalah tipe data majemuk yang ada pada python yang memiliki fungsi masing-masing\n",
    "\n",
    "- **List** bersifat mutable (dapat dimodifikasi setelah dibuat)\n",
    "- **Tuple** bersifat immutable (tidak dapat dimodifikasi setelah dibuat)\n",
    "- **set** elemen didalamnya harus unik. (digunakan untuk operasi himpunan)"
   ]
  },
  {
   "cell_type": "code",
   "execution_count": 41,
   "metadata": {
    "collapsed": false
   },
   "outputs": [
    {
     "data": {
      "text/plain": [
       "list"
      ]
     },
     "execution_count": 41,
     "metadata": {},
     "output_type": "execute_result"
    }
   ],
   "source": [
    "list1  = [1,2,3,4,5,\"afif\",3.14]\n",
    "type(list1)"
   ]
  },
  {
   "cell_type": "code",
   "execution_count": 42,
   "metadata": {
    "collapsed": false
   },
   "outputs": [
    {
     "data": {
      "text/plain": [
       "tuple"
      ]
     },
     "execution_count": 42,
     "metadata": {},
     "output_type": "execute_result"
    }
   ],
   "source": [
    "tuple1 = (1,2,3,4,5,\"afif\",3.14)\n",
    "type(tuple1)"
   ]
  },
  {
   "cell_type": "code",
   "execution_count": 43,
   "metadata": {
    "collapsed": false
   },
   "outputs": [
    {
     "data": {
      "text/plain": [
       "set"
      ]
     },
     "execution_count": 43,
     "metadata": {},
     "output_type": "execute_result"
    }
   ],
   "source": [
    "set1 = {1,2,3,2}\n",
    "type(set1)"
   ]
  },
  {
   "cell_type": "code",
   "execution_count": 44,
   "metadata": {
    "collapsed": false
   },
   "outputs": [
    {
     "name": "stdout",
     "output_type": "stream",
     "text": [
      "[1, 2, 3, 4, 5, 'afif', 3.14, 30]\n",
      "['insert diawal', 1, 2, 3, 4, 5, 'afif', 3.14, 30]\n"
     ]
    }
   ],
   "source": [
    "list1.append(30)\n",
    "print(list1)\n",
    "list1.insert(0,\"insert diawal\")\n",
    "print(list1)"
   ]
  },
  {
   "cell_type": "code",
   "execution_count": 45,
   "metadata": {
    "collapsed": false
   },
   "outputs": [
    {
     "data": {
      "text/plain": [
       "['__add__',\n",
       " '__class__',\n",
       " '__contains__',\n",
       " '__delattr__',\n",
       " '__delitem__',\n",
       " '__dir__',\n",
       " '__doc__',\n",
       " '__eq__',\n",
       " '__format__',\n",
       " '__ge__',\n",
       " '__getattribute__',\n",
       " '__getitem__',\n",
       " '__gt__',\n",
       " '__hash__',\n",
       " '__iadd__',\n",
       " '__imul__',\n",
       " '__init__',\n",
       " '__init_subclass__',\n",
       " '__iter__',\n",
       " '__le__',\n",
       " '__len__',\n",
       " '__lt__',\n",
       " '__mul__',\n",
       " '__ne__',\n",
       " '__new__',\n",
       " '__reduce__',\n",
       " '__reduce_ex__',\n",
       " '__repr__',\n",
       " '__reversed__',\n",
       " '__rmul__',\n",
       " '__setattr__',\n",
       " '__setitem__',\n",
       " '__sizeof__',\n",
       " '__str__',\n",
       " '__subclasshook__',\n",
       " 'append',\n",
       " 'clear',\n",
       " 'copy',\n",
       " 'count',\n",
       " 'extend',\n",
       " 'index',\n",
       " 'insert',\n",
       " 'pop',\n",
       " 'remove',\n",
       " 'reverse',\n",
       " 'sort']"
      ]
     },
     "execution_count": 45,
     "metadata": {},
     "output_type": "execute_result"
    }
   ],
   "source": [
    "dir(list1)"
   ]
  },
  {
   "cell_type": "code",
   "execution_count": 46,
   "metadata": {
    "collapsed": false
   },
   "outputs": [
    {
     "data": {
      "text/plain": [
       "['__add__',\n",
       " '__class__',\n",
       " '__contains__',\n",
       " '__delattr__',\n",
       " '__dir__',\n",
       " '__doc__',\n",
       " '__eq__',\n",
       " '__format__',\n",
       " '__ge__',\n",
       " '__getattribute__',\n",
       " '__getitem__',\n",
       " '__getnewargs__',\n",
       " '__gt__',\n",
       " '__hash__',\n",
       " '__init__',\n",
       " '__init_subclass__',\n",
       " '__iter__',\n",
       " '__le__',\n",
       " '__len__',\n",
       " '__lt__',\n",
       " '__mul__',\n",
       " '__ne__',\n",
       " '__new__',\n",
       " '__reduce__',\n",
       " '__reduce_ex__',\n",
       " '__repr__',\n",
       " '__rmul__',\n",
       " '__setattr__',\n",
       " '__sizeof__',\n",
       " '__str__',\n",
       " '__subclasshook__',\n",
       " 'count',\n",
       " 'index']"
      ]
     },
     "execution_count": 46,
     "metadata": {},
     "output_type": "execute_result"
    }
   ],
   "source": [
    "dir(tuple1)"
   ]
  },
  {
   "cell_type": "markdown",
   "metadata": {},
   "source": [
    "## Fungsi range()"
   ]
  },
  {
   "cell_type": "markdown",
   "metadata": {},
   "source": [
    "Ketika menggunakan pengulangan for nanti, kita akan banyak menggunakan `range()`. Fungsi ini digunakan untuk menghasilkan deretan angka dengan interval dan loncatan tertentu. Misal dengan range(), Anda dapat membuat deret angka dari 1, 2, 3, 4, 5, 6, 7, 8, 9, 10 atau 1, 3, 5, 7, 8, 9, 11, 13, 15, 17. Tergantung kebutuhan Anda, membuat deret angka dengan `range()` dapat dilakukan dengan melewatkan tiga parameter yaitu nilai awal (start), nilai akhir (stop), dan langkah (step). Deret yang dihasilkan dengan `range()` akan disimpan dalam list."
   ]
  },
  {
   "cell_type": "code",
   "execution_count": 47,
   "metadata": {
    "collapsed": true
   },
   "outputs": [],
   "source": [
    "def print_list(a):\n",
    "    print(list(a))"
   ]
  },
  {
   "cell_type": "markdown",
   "metadata": {},
   "source": [
    "kasus - 1 : jika step tidak disertakan maka step akan diisi 1 secara default"
   ]
  },
  {
   "cell_type": "code",
   "execution_count": 48,
   "metadata": {
    "collapsed": false
   },
   "outputs": [
    {
     "name": "stdout",
     "output_type": "stream",
     "text": [
      "[1, 2, 3, 4, 5, 6, 7, 8, 9]\n"
     ]
    }
   ],
   "source": [
    "print_list(range(1, 10))"
   ]
  },
  {
   "cell_type": "markdown",
   "metadata": {},
   "source": [
    "kasus - 2 : jika step disertakan maka step akan sesuai dengan angka yang diisikan"
   ]
  },
  {
   "cell_type": "code",
   "execution_count": 49,
   "metadata": {
    "collapsed": false
   },
   "outputs": [
    {
     "name": "stdout",
     "output_type": "stream",
     "text": [
      "[1, 3, 5, 7, 9]\n",
      "[1, 4, 7]\n",
      "[1, 5, 9]\n",
      "[1, 6]\n"
     ]
    }
   ],
   "source": [
    "print_list(range(1, 10, 2))\n",
    "print_list(range(1, 10, 3))\n",
    "print_list(range(1, 10, 4))\n",
    "print_list(range(1, 10, 5))"
   ]
  },
  {
   "cell_type": "markdown",
   "metadata": {},
   "source": [
    "kasus - 3 : jika step melebihi stop maka list hanya akan berisi start"
   ]
  },
  {
   "cell_type": "code",
   "execution_count": 50,
   "metadata": {
    "collapsed": false
   },
   "outputs": [
    {
     "name": "stdout",
     "output_type": "stream",
     "text": [
      "[1]\n"
     ]
    }
   ],
   "source": [
    "print_list(range(1, 10, 11))"
   ]
  },
  {
   "cell_type": "markdown",
   "metadata": {},
   "source": [
    "kasus - 4 : jika start lebih besar nilainya daripada stop maka list akan kosong"
   ]
  },
  {
   "cell_type": "code",
   "execution_count": 51,
   "metadata": {
    "collapsed": false
   },
   "outputs": [
    {
     "name": "stdout",
     "output_type": "stream",
     "text": [
      "[]\n"
     ]
    }
   ],
   "source": [
    "print_list(range(10, 1))"
   ]
  },
  {
   "cell_type": "markdown",
   "metadata": {},
   "source": [
    "kasus - 5 : jika start lebih besar nilainya daripada stop dan jika step melebihi stop maka list akan kosong"
   ]
  },
  {
   "cell_type": "code",
   "execution_count": 52,
   "metadata": {
    "collapsed": false
   },
   "outputs": [
    {
     "name": "stdout",
     "output_type": "stream",
     "text": [
      "[]\n",
      "[]\n"
     ]
    }
   ],
   "source": [
    "print_list(range(10, 1, 2))\n",
    "print_list(range(10, 1, 11))"
   ]
  },
  {
   "cell_type": "markdown",
   "metadata": {},
   "source": [
    "kasus - 6 : jika start lebih besar daripada stop dan step bernilai minus dan jika start dikurangi step menghasilkan angka positif maka list akan berisi deret angka menurun"
   ]
  },
  {
   "cell_type": "code",
   "execution_count": 53,
   "metadata": {
    "collapsed": false
   },
   "outputs": [
    {
     "name": "stdout",
     "output_type": "stream",
     "text": [
      "[10, 9, 8, 7, 6, 5, 4, 3, 2]\n"
     ]
    }
   ],
   "source": [
    "print_list(range(10, 1, -1))\n"
   ]
  },
  {
   "cell_type": "markdown",
   "metadata": {},
   "source": [
    "# Pengulangan"
   ]
  },
  {
   "cell_type": "markdown",
   "metadata": {},
   "source": [
    "Pengulangan atau biasa disebut looping adalah sebuah proses dimana kita mendefinisikan proses yang berulang tanpa menyalin ulang bagian kode program yang kita tulis. Misal untuk mencetak kalimat \"Hello World\" sebanyak lima kali, kita tidak perlu menyalin perintah print(\"Hello World\") sebanyak lima kali. Cukup dengan menggunakan for dan hasil yang akan diharapkan akan muncul."
   ]
  },
  {
   "cell_type": "code",
   "execution_count": 54,
   "metadata": {
    "collapsed": false
   },
   "outputs": [
    {
     "name": "stdout",
     "output_type": "stream",
     "text": [
      "Pengulangan ke -  1\n",
      "Pengulangan ke -  2\n",
      "Pengulangan ke -  3\n",
      "Pengulangan ke -  4\n",
      "Pengulangan ke -  5\n"
     ]
    }
   ],
   "source": [
    "for i in [1,2,3,4,5]:\n",
    "    print(\"Pengulangan ke - \",i)"
   ]
  },
  {
   "cell_type": "code",
   "execution_count": 55,
   "metadata": {
    "collapsed": false
   },
   "outputs": [
    {
     "name": "stdout",
     "output_type": "stream",
     "text": [
      "Rawon adalah masakan khas nusantara ...\n",
      "Nasi Kuning adalah masakan khas nusantara ...\n",
      "Soto Madura adalah masakan khas nusantara ...\n",
      "Kupat Tahu adalah masakan khas nusantara ...\n",
      "Kerak Telor adalah masakan khas nusantara ...\n",
      "Rendang Batoko adalah masakan khas nusantara ...\n",
      "Pempek Selam adalah masakan khas nusantara ...\n",
      "Ayam Betutu adalah masakan khas nusantara ...\n"
     ]
    }
   ],
   "source": [
    "for i in [\"Rawon\", \"Nasi Kuning\", \"Soto Madura\", \"Kupat Tahu\", \"Kerak Telor\", \"Rendang Batoko\", \"Pempek Selam\", \"Ayam Betutu\"]:\n",
    "    print (i, \"adalah masakan khas nusantara ...\")"
   ]
  },
  {
   "cell_type": "code",
   "execution_count": 56,
   "metadata": {
    "collapsed": false
   },
   "outputs": [
    {
     "name": "stdout",
     "output_type": "stream",
     "text": [
      "Pengulangan ke-  1\n",
      "Pengulangan ke-  2\n",
      "Pengulangan ke-  3\n",
      "Pengulangan ke-  4\n",
      "Pengulangan ke-  5\n",
      "Pengulangan ke-  6\n",
      "Pengulangan ke-  7\n",
      "Pengulangan ke-  8\n",
      "Pengulangan ke-  9\n"
     ]
    }
   ],
   "source": [
    "for i in range(1,10):\n",
    "    print(\"Pengulangan ke- \",i)"
   ]
  },
  {
   "cell_type": "markdown",
   "metadata": {},
   "source": [
    "Berbeda dengan `for` yang membutuhkan `list` untuk menjadi pemacu iterasi di pengulangan `for`. Dalam menggunakan pengulangan `while`, cukup kondisi terpenuhi dengan **True**. Selama **True** maka kondisi akan terus dijalankan hingga dihentikan paksa atau mencapai kondisi tertentu. Pengulangan **while** akan berhenti jika kondisi menjadi **False**"
   ]
  },
  {
   "cell_type": "code",
   "execution_count": 57,
   "metadata": {
    "collapsed": false
   },
   "outputs": [
    {
     "name": "stdout",
     "output_type": "stream",
     "text": [
      "Aku sudah berjalan sebanyak 0 langkah \n",
      "Aku sudah berjalan sebanyak 1 langkah \n",
      "Aku sudah berjalan sebanyak 2 langkah \n",
      "Aku sudah berjalan sebanyak 3 langkah \n",
      "Aku sudah berjalan sebanyak 4 langkah \n",
      "Aku sudah berjalan sebanyak 5 langkah \n",
      "Aku sudah berjalan sebanyak 6 langkah \n",
      "Aku sudah berjalan sebanyak 7 langkah \n",
      "Aku sudah berjalan sebanyak 8 langkah \n",
      "Aku sudah berjalan sebanyak 9 langkah \n"
     ]
    }
   ],
   "source": [
    "angka =  0\n",
    "while (angka < 10):\n",
    "    print (\"Aku sudah berjalan sebanyak\", angka, \"langkah \")\n",
    "    angka += 1"
   ]
  },
  {
   "cell_type": "code",
   "execution_count": 58,
   "metadata": {
    "collapsed": false
   },
   "outputs": [
    {
     "name": "stdout",
     "output_type": "stream",
     "text": [
      "masukkan angka kurang dari 10!! : 12\n",
      "masukkan angka kurang dari 10!! : 13\n",
      "masukkan angka kurang dari 10!! : 1\n"
     ]
    }
   ],
   "source": [
    "terus_tanya = True\n",
    "while terus_tanya :\n",
    "    temp = input('masukkan angka kurang dari 10!! : ')\n",
    "    angka = int(temp)\n",
    "    if angka < 10:\n",
    "        terus_tanya = False\n",
    "    else:\n",
    "        terus_tanya = True"
   ]
  }
 ],
 "metadata": {
  "kernelspec": {
   "display_name": "Python 3",
   "language": "python",
   "name": "python3"
  },
  "language_info": {
   "codemirror_mode": {
    "name": "ipython",
    "version": 3
   },
   "file_extension": ".py",
   "mimetype": "text/x-python",
   "name": "python",
   "nbconvert_exporter": "python",
   "pygments_lexer": "ipython3",
   "version": "3.6.0"
  }
 },
 "nbformat": 4,
 "nbformat_minor": 2
}
